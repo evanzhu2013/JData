{
 "cells": [
  {
   "cell_type": "code",
   "execution_count": 28,
   "metadata": {
    "collapsed": false,
    "deletable": true,
    "editable": true
   },
   "outputs": [],
   "source": [
    "import pandas as pd\n",
    "import numpy as np\n",
    "import datetime "
   ]
  },
  {
   "cell_type": "markdown",
   "metadata": {
    "deletable": true,
    "editable": true
   },
   "source": [
    "### 读取数据"
   ]
  },
  {
   "cell_type": "code",
   "execution_count": null,
   "metadata": {
    "collapsed": false,
    "deletable": true,
    "editable": true
   },
   "outputs": [
    {
     "data": {
      "text/html": [
       "<div>\n",
       "<table border=\"1\" class=\"dataframe\">\n",
       "  <thead>\n",
       "    <tr style=\"text-align: right;\">\n",
       "      <th></th>\n",
       "      <th>user_id</th>\n",
       "      <th>age</th>\n",
       "      <th>sex</th>\n",
       "      <th>user_lv_cd</th>\n",
       "      <th>user_reg_dt</th>\n",
       "    </tr>\n",
       "  </thead>\n",
       "  <tbody>\n",
       "    <tr>\n",
       "      <th>0</th>\n",
       "      <td>54</td>\n",
       "      <td>NaN</td>\n",
       "      <td>2</td>\n",
       "      <td>1</td>\n",
       "      <td>2016-01-26</td>\n",
       "    </tr>\n",
       "    <tr>\n",
       "      <th>1</th>\n",
       "      <td>79</td>\n",
       "      <td>36-45岁</td>\n",
       "      <td>2</td>\n",
       "      <td>2</td>\n",
       "      <td>2016-01-27</td>\n",
       "    </tr>\n",
       "    <tr>\n",
       "      <th>2</th>\n",
       "      <td>100</td>\n",
       "      <td>16-25岁</td>\n",
       "      <td>2</td>\n",
       "      <td>3</td>\n",
       "      <td>2016-01-27</td>\n",
       "    </tr>\n",
       "    <tr>\n",
       "      <th>3</th>\n",
       "      <td>266</td>\n",
       "      <td>15岁以下</td>\n",
       "      <td>2</td>\n",
       "      <td>2</td>\n",
       "      <td>2016-01-29</td>\n",
       "    </tr>\n",
       "    <tr>\n",
       "      <th>4</th>\n",
       "      <td>333</td>\n",
       "      <td>NaN</td>\n",
       "      <td>2</td>\n",
       "      <td>4</td>\n",
       "      <td>2016-01-30</td>\n",
       "    </tr>\n",
       "  </tbody>\n",
       "</table>\n",
       "</div>"
      ],
      "text/plain": [
       "   user_id     age  sex  user_lv_cd user_reg_dt\n",
       "0       54     NaN    2           1  2016-01-26\n",
       "1       79  36-45岁    2           2  2016-01-27\n",
       "2      100  16-25岁    2           3  2016-01-27\n",
       "3      266   15岁以下    2           2  2016-01-29\n",
       "4      333     NaN    2           4  2016-01-30"
      ]
     },
     "execution_count": 29,
     "metadata": {},
     "output_type": "execute_result"
    }
   ],
   "source": [
    "User = pd.read_csv('./Data/JData_User.csv',encoding='GBK',na_values=-1,parse_dates=['user_reg_dt'])\n",
    "User.head()"
   ]
  },
  {
   "cell_type": "code",
   "execution_count": null,
   "metadata": {
    "collapsed": true,
    "deletable": true,
    "editable": true
   },
   "outputs": [],
   "source": [
    "Action_201602 = pd.read_csv('./Data/JData_Action_201602.csv',\\\n",
    "                            encoding='GBK',\\\n",
    "                            na_values=-1,\\\n",
    "                            parse_dates=['time'],dtype={'user_id':'int','sku_id':'int','type':'int','model_id':'float64'})\n",
    "Action_201602 = Action_201602.sort_values(['user_id','sku_id','time'])\\\n",
    "    .drop_duplicates(['user_id','sku_id','time'])"
   ]
  },
  {
   "cell_type": "code",
   "execution_count": null,
   "metadata": {
    "collapsed": true,
    "deletable": true,
    "editable": true
   },
   "outputs": [],
   "source": [
    "Action_201603 = pd.read_csv('./Data/JData_Action_201603/JData_Action_201603.csv',\\\n",
    "                            encoding='GBK',\\\n",
    "                            na_values=-1,\\\n",
    "                            parse_dates=['time'],dtype={'user_id':'int','sku_id':'int','type':'int','model_id':'float64'})\n",
    "Action_201603 = Action_201603.sort_values(['user_id','sku_id','time'])\\\n",
    "    .drop_duplicates(['user_id','sku_id','time'])"
   ]
  },
  {
   "cell_type": "code",
   "execution_count": null,
   "metadata": {
    "collapsed": true,
    "deletable": true,
    "editable": true
   },
   "outputs": [],
   "source": [
    "Action_201603_extra = pd.read_csv('./Data/JData_Action_201603/JData_Action_201603_extra.csv',\\\n",
    "                            encoding='GBK',\\\n",
    "                            na_values=-1,\\\n",
    "                            parse_dates=['time'],dtype={'user_id':'int','sku_id':'int','type':'int','model_id':'float64'})\n",
    "Action_201603_extra = Action_201603_extra.sort_values(['user_id','sku_id','time'])\\\n",
    "    .drop_duplicates(['user_id','sku_id','time'])"
   ]
  },
  {
   "cell_type": "code",
   "execution_count": null,
   "metadata": {
    "collapsed": true,
    "deletable": true,
    "editable": true
   },
   "outputs": [],
   "source": [
    "Action_201603 = Action_201603.append(Action_201603_extra)"
   ]
  },
  {
   "cell_type": "code",
   "execution_count": null,
   "metadata": {
    "collapsed": false,
    "deletable": true,
    "editable": true
   },
   "outputs": [],
   "source": [
    "Action_201604 = pd.read_csv('./Data/JData_Action_201604.csv',\\\n",
    "                            encoding='GBK',\\\n",
    "                            na_values=-1,\\\n",
    "                            parse_dates=['time'],dtype={'user_id':'int','sku_id':'int','type':'int','model_id':'float64'})"
   ]
  },
  {
   "cell_type": "code",
   "execution_count": null,
   "metadata": {
    "collapsed": true,
    "deletable": true,
    "editable": true
   },
   "outputs": [],
   "source": [
    "Action_201604 = Action_201602.append(Action_201603).append(Action_201604)"
   ]
  },
  {
   "cell_type": "code",
   "execution_count": null,
   "metadata": {
    "collapsed": false,
    "deletable": true,
    "editable": true
   },
   "outputs": [],
   "source": [
    "Action_201604.head()"
   ]
  },
  {
   "cell_type": "code",
   "execution_count": null,
   "metadata": {
    "collapsed": false,
    "deletable": true,
    "editable": true
   },
   "outputs": [],
   "source": [
    "len(Action_201604)"
   ]
  },
  {
   "cell_type": "code",
   "execution_count": null,
   "metadata": {
    "collapsed": false,
    "deletable": true,
    "editable": true
   },
   "outputs": [],
   "source": [
    "Action_201604 = Action_201604.sort_values(['user_id','sku_id','time'])\\\n",
    "    .drop_duplicates(['user_id','sku_id','time'])"
   ]
  },
  {
   "cell_type": "code",
   "execution_count": null,
   "metadata": {
    "collapsed": false,
    "deletable": true,
    "editable": true
   },
   "outputs": [],
   "source": [
    "len(Action_201604)"
   ]
  },
  {
   "cell_type": "code",
   "execution_count": null,
   "metadata": {
    "collapsed": false,
    "deletable": true,
    "editable": true
   },
   "outputs": [],
   "source": [
    "Action_201604 = Action_201604.merge(pd.get_dummies(Action_201604.type,prefix='type'),\\\n",
    "                                    left_index=True,\n",
    "                                    right_index=True,\n",
    "                                    how='left').drop(['cate','brand'],axis=1)\n",
    "Action_201604.head()"
   ]
  },
  {
   "cell_type": "code",
   "execution_count": null,
   "metadata": {
    "collapsed": false,
    "deletable": true,
    "editable": true
   },
   "outputs": [],
   "source": [
    "Action_201604 = Action_201604.groupby(['user_id','sku_id'])\\\n",
    ".agg({'type_1':sum,'type_2':sum,'type_3':sum,\\\n",
    "                    'type_4':sum,'type_5':sum,'type_6':sum,\\\n",
    "                    'time':min,'model_id':len\n",
    "                   }).reset_index()"
   ]
  },
  {
   "cell_type": "code",
   "execution_count": null,
   "metadata": {
    "collapsed": false,
    "deletable": true,
    "editable": true
   },
   "outputs": [],
   "source": [
    "Action_201604.head()"
   ]
  },
  {
   "cell_type": "code",
   "execution_count": null,
   "metadata": {
    "collapsed": false,
    "deletable": true,
    "editable": true
   },
   "outputs": [],
   "source": [
    "Comments = pd.read_csv('./Data/JData_Comment.csv',encoding='GBK',na_values=-1,\\\n",
    "                       parse_dates=['dt'],dtype={'sku_id':'int'})\n",
    "Comments.head()"
   ]
  },
  {
   "cell_type": "code",
   "execution_count": null,
   "metadata": {
    "collapsed": false,
    "deletable": true,
    "editable": true
   },
   "outputs": [],
   "source": [
    "Product = pd.read_csv('./Data/JData_Product.csv',encoding='GBK',na_values=-1,\\\n",
    "                     dtype={'sku_id':'int'})\n",
    "Product.head()"
   ]
  },
  {
   "cell_type": "markdown",
   "metadata": {
    "collapsed": false,
    "deletable": true,
    "editable": true
   },
   "source": [
    "### 数据切分"
   ]
  },
  {
   "cell_type": "code",
   "execution_count": null,
   "metadata": {
    "collapsed": true,
    "deletable": true,
    "editable": true
   },
   "outputs": [],
   "source": [
    "date0 = '2016-02-01'\n",
    "date1 = '2016-04-06'\n",
    "date2 = '2016-04-15'\n",
    "date3 = '2016-04-16'"
   ]
  },
  {
   "cell_type": "markdown",
   "metadata": {
    "deletable": true,
    "editable": true
   },
   "source": [
    "### 数据集合并"
   ]
  },
  {
   "cell_type": "code",
   "execution_count": null,
   "metadata": {
    "collapsed": true,
    "deletable": true,
    "editable": true
   },
   "outputs": [],
   "source": [
    "def create_data(date_a,date_b):\n",
    "    Action_section = Action_201604[(Action_201604['time'] >  date_a) & (Action_201604['time'] < date_b)]\n",
    "    Comments_section =  Comments[Comments['dt'] < date_b]\n",
    "    User_section =  User[User['user_reg_dt'] < date_b]\n",
    "    User_section = User_section.sort_values('user_id')\n",
    "#     Action_section = Action_section.sort_values(['user_id','sku_id','time']).drop_duplicates(['user_id','sku_id','time'])\n",
    "    UA_section = Action_section.merge(User_section,on='user_id',how='left').sort_values(['user_id','sku_id','time'])\n",
    "    Comments_section = Comments_section.sort_values(['sku_id','dt'],ascending=False).drop_duplicates(['sku_id'])\n",
    "    PC_section = Product.merge(Comments_section,how='left',on='sku_id').sort_values('bad_comment_rate',ascending=False)\n",
    "    PC_section = PC_section\n",
    "    UAPC_section = PC_section.merge(UA_section,on='sku_id',how='left')\n",
    "    UAPC_section = UAPC_section.dropna(axis=0,subset=['user_id'])\n",
    "    UAPC_section[['user_id','sku_id']] = UAPC_section[['user_id','sku_id']].apply(lambda x:x.astype(int))\n",
    "    return UAPC_section"
   ]
  },
  {
   "cell_type": "code",
   "execution_count": null,
   "metadata": {
    "collapsed": true,
    "deletable": true,
    "editable": true
   },
   "outputs": [],
   "source": [
    "def create_data(date_a,date_b):\n",
    "    Action_section = Action_201604[(Action_201604['time'] >  date_a) & (Action_201604['time'] < date_b)]\n",
    "    Comments_section =  Comments[(Comments['dt'] >  date_a) & (Comments['dt'] < date_b)]\n",
    "    User_section =  User[User['user_reg_dt'] < date_b]\n",
    "    User_section = User_section.sort_values('user_id')\n",
    "#     Action_section = Action_section.sort_values(['user_id','sku_id','time']).drop_duplicates(['user_id','sku_id','time'])\n",
    "    UA_section = Action_section.merge(User_section,on='user_id',how='left').sort_values(['user_id','sku_id','time'])\n",
    "    Comments_section = Comments_section.sort_values(['sku_id','dt'],ascending=False).drop_duplicates(['sku_id'])\n",
    "    PC_section = Product.merge(Comments_section,how='left',on='sku_id').sort_values('bad_comment_rate',ascending=False)\n",
    "    PC_section = PC_section\n",
    "    UAPC_section = UA_section.merge(PC_section,on='sku_id',how='inner')\n",
    "#     UAPC_section = UAPC_section.dropna(axis=0,subset=['user_id'])\n",
    "    UAPC_section[['user_id','sku_id']] = UAPC_section[['user_id','sku_id']].apply(lambda x:x.astype(int))\n",
    "    return UAPC_section"
   ]
  },
  {
   "cell_type": "code",
   "execution_count": null,
   "metadata": {
    "collapsed": false,
    "deletable": true,
    "editable": true
   },
   "outputs": [],
   "source": [
    "def label_create(x):\n",
    "    return x[['user_id','sku_id','type_4']]\\\n",
    "    .sort_values(['user_id','sku_id'])\\\n",
    "    .rename(columns= {'type_4':'label'})"
   ]
  },
  {
   "cell_type": "code",
   "execution_count": null,
   "metadata": {
    "collapsed": false,
    "deletable": true,
    "editable": true
   },
   "outputs": [],
   "source": [
    "train_X = create_data(date0,date2)"
   ]
  },
  {
   "cell_type": "code",
   "execution_count": null,
   "metadata": {
    "collapsed": false,
    "deletable": true,
    "editable": true
   },
   "outputs": [],
   "source": [
    "train_X['type_4'].value_counts()"
   ]
  },
  {
   "cell_type": "code",
   "execution_count": null,
   "metadata": {
    "collapsed": true,
    "deletable": true,
    "editable": true
   },
   "outputs": [],
   "source": [
    "train_y = create_data(date2,date3)"
   ]
  },
  {
   "cell_type": "code",
   "execution_count": null,
   "metadata": {
    "collapsed": false,
    "deletable": true,
    "editable": true
   },
   "outputs": [],
   "source": [
    "trial = train_y[train_y['type_4']>=1][['user_id','sku_id']].merge(Action_201604,how='left').sort_values(['user_id','sku_id'])"
   ]
  },
  {
   "cell_type": "code",
   "execution_count": null,
   "metadata": {
    "collapsed": false,
    "deletable": true,
    "editable": true
   },
   "outputs": [],
   "source": [
    "trial.head()"
   ]
  },
  {
   "cell_type": "code",
   "execution_count": null,
   "metadata": {
    "collapsed": true,
    "deletable": true,
    "editable": true
   },
   "outputs": [],
   "source": [
    "trial[type]"
   ]
  },
  {
   "cell_type": "code",
   "execution_count": null,
   "metadata": {
    "collapsed": false,
    "deletable": true,
    "editable": true
   },
   "outputs": [],
   "source": [
    "Comments[Comments['sku_id']==5504]"
   ]
  },
  {
   "cell_type": "code",
   "execution_count": null,
   "metadata": {
    "collapsed": false,
    "deletable": true,
    "editable": true
   },
   "outputs": [],
   "source": [
    "train_y.sort_values(['sku_id','time']).head()"
   ]
  },
  {
   "cell_type": "code",
   "execution_count": null,
   "metadata": {
    "collapsed": false,
    "deletable": true,
    "editable": true
   },
   "outputs": [],
   "source": [
    "train_y['type_4'].value_counts()"
   ]
  },
  {
   "cell_type": "code",
   "execution_count": null,
   "metadata": {
    "collapsed": false,
    "deletable": true,
    "editable": true
   },
   "outputs": [],
   "source": [
    "train_y = train_y[['user_id','sku_id','type_4']]\\\n",
    "    .sort_values(['user_id','sku_id'])\\\n",
    "    .rename(columns= {'type_4':'label'})"
   ]
  },
  {
   "cell_type": "code",
   "execution_count": null,
   "metadata": {
    "collapsed": false,
    "deletable": true,
    "editable": true
   },
   "outputs": [],
   "source": [
    "train_y.head()"
   ]
  },
  {
   "cell_type": "code",
   "execution_count": null,
   "metadata": {
    "collapsed": false,
    "deletable": true,
    "editable": true
   },
   "outputs": [],
   "source": [
    "train_test = train_X.merge(train_y,on=['user_id','sku_id'],how='left')"
   ]
  },
  {
   "cell_type": "code",
   "execution_count": null,
   "metadata": {
    "collapsed": false,
    "deletable": true,
    "editable": true
   },
   "outputs": [],
   "source": [
    "train_test.head()"
   ]
  },
  {
   "cell_type": "code",
   "execution_count": null,
   "metadata": {
    "collapsed": false,
    "deletable": true,
    "editable": true
   },
   "outputs": [],
   "source": [
    "train_test['label']= train_test['label'].fillna(0)"
   ]
  },
  {
   "cell_type": "code",
   "execution_count": null,
   "metadata": {
    "collapsed": false,
    "deletable": true,
    "editable": true
   },
   "outputs": [],
   "source": [
    "train_test['label'].value_counts()"
   ]
  },
  {
   "cell_type": "code",
   "execution_count": null,
   "metadata": {
    "collapsed": true,
    "deletable": true,
    "editable": true
   },
   "outputs": [],
   "source": []
  },
  {
   "cell_type": "code",
   "execution_count": null,
   "metadata": {
    "collapsed": true,
    "deletable": true,
    "editable": true
   },
   "outputs": [],
   "source": []
  }
 ],
 "metadata": {
  "kernelspec": {
   "display_name": "Python 3",
   "language": "python",
   "name": "python3"
  },
  "language_info": {
   "codemirror_mode": {
    "name": "ipython",
    "version": 3
   },
   "file_extension": ".py",
   "mimetype": "text/x-python",
   "name": "python",
   "nbconvert_exporter": "python",
   "pygments_lexer": "ipython3",
   "version": "3.6.0"
  }
 },
 "nbformat": 4,
 "nbformat_minor": 2
}
