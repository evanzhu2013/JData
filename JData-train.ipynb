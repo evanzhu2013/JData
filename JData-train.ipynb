{
 "cells": [
  {
   "cell_type": "code",
   "execution_count": 1,
   "metadata": {},
   "outputs": [],
   "source": [
    "import pandas as pd\n",
    "import numpy as np\n",
    "import datetime "
   ]
  },
  {
   "cell_type": "markdown",
   "metadata": {},
   "source": [
    "### 读取数据"
   ]
  },
  {
   "cell_type": "code",
   "execution_count": 2,
   "metadata": {},
   "outputs": [],
   "source": [
    "User = pd.read_csv('./Data/JData_User.csv',encoding='GBK',na_values=-1,parse_dates=['user_reg_dt'])"
   ]
  },
  {
   "cell_type": "code",
   "execution_count": 3,
   "metadata": {},
   "outputs": [],
   "source": [
    "Action_201604 = pd.read_csv('./Data/JData_Action_201604.csv',\\\n",
    "                            encoding='GBK',\\\n",
    "                            na_values=[-1,'NA'],\\\n",
    "                            parse_dates=['time'],dtype={'user_id':'int','sku_id':'int','type':'int','model_id':'float'})"
   ]
  },
  {
   "cell_type": "code",
   "execution_count": 4,
   "metadata": {},
   "outputs": [],
   "source": [
    "Action_201604 = Action_201604.sort_values(['user_id','sku_id','time'])\\\n",
    "    .drop_duplicates(['user_id','sku_id','time'])"
   ]
  },
  {
   "cell_type": "code",
   "execution_count": 5,
   "metadata": {},
   "outputs": [],
   "source": [
    "Action_clean = Action_201604.merge(pd.get_dummies(Action_201604.type,prefix='type'),\\\n",
    "                                    left_index=True,\n",
    "                                    right_index=True,\n",
    "                                    how='left')"
   ]
  },
  {
   "cell_type": "code",
   "execution_count": 6,
   "metadata": {},
   "outputs": [],
   "source": [
    "Comments = pd.read_csv('./Data/JData_Comment.csv',encoding='GBK',na_values=[-1,'NA'],\\\n",
    "                       parse_dates=['dt'],dtype={'sku_id':'int'})"
   ]
  },
  {
   "cell_type": "code",
   "execution_count": 7,
   "metadata": {},
   "outputs": [],
   "source": [
    "Product = pd.read_csv('./Data/JData_Product.csv',encoding='GBK',na_values=-1,\\\n",
    "                     dtype={'sku_id':'int'})"
   ]
  },
  {
   "cell_type": "markdown",
   "metadata": {},
   "source": [
    "### 构建Train_X"
   ]
  },
  {
   "cell_type": "code",
   "execution_count": 8,
   "metadata": {
    "collapsed": true
   },
   "outputs": [],
   "source": [
    "date0 = pd.to_datetime('2016-04-01')\n",
    "date1 = pd.to_datetime('2016-04-06')\n",
    "date2 = pd.to_datetime('2016-04-11')\n",
    "date3 = pd.to_datetime('2016-04-16')"
   ]
  },
  {
   "cell_type": "code",
   "execution_count": 9,
   "metadata": {
    "collapsed": true
   },
   "outputs": [],
   "source": [
    "Action_X = Action_clean.groupby(['user_id','sku_id'])\\\n",
    ".agg({'type_1':sum,'type_2':sum,'type_3':sum,\\\n",
    "                    'type_4':sum,'type_5':sum,'type_6':sum,\\\n",
    "                    'time':min,'model_id':len\n",
    "                   }).reset_index()"
   ]
  },
  {
   "cell_type": "code",
   "execution_count": 10,
   "metadata": {
    "collapsed": true
   },
   "outputs": [],
   "source": [
    "Action_X['day'] = pd.to_datetime(Action_X['time'].dt.date)"
   ]
  },
  {
   "cell_type": "code",
   "execution_count": 11,
   "metadata": {
    "collapsed": true
   },
   "outputs": [],
   "source": [
    "def Train_X(date_a,date_b):\n",
    "    \n",
    "    Action_section = Action_X[(Action_X['time'] >=  date_a) & (Action_X['time'] < date_b)]\n",
    "    User_section =  User[User['user_reg_dt'] < date_b]\n",
    "    UA_section = Action_section.merge(User_section,on='user_id',how='left')\\\n",
    "    .sort_values(['user_id','sku_id','time'])\n",
    "    \n",
    "    Comments_section =  Comments[Comments['dt'] < date_b]\n",
    "    Comments_section = Comments_section.sort_values(['sku_id','dt'],ascending=False)\\\n",
    "    .drop_duplicates(['sku_id'])\n",
    "    \n",
    "    PC_section = Product.merge(Comments_section,how='left',on='sku_id')\\\n",
    "    .sort_values('bad_comment_rate',ascending=False)\n",
    "\n",
    "    UAPC_section = PC_section.merge(UA_section,on='sku_id',how='left')\n",
    "    UAPC_section = UAPC_section.dropna(axis=0,subset=['user_id'])\n",
    "    \n",
    "    UAPC_section[['user_id','sku_id']] = UAPC_section[['user_id','sku_id']]\\\n",
    "    .apply(lambda x:x.astype(int))\n",
    "    \n",
    "    return UAPC_section"
   ]
  },
  {
   "cell_type": "markdown",
   "metadata": {},
   "source": [
    "### 构建Label"
   ]
  },
  {
   "cell_type": "code",
   "execution_count": 12,
   "metadata": {
    "collapsed": true
   },
   "outputs": [],
   "source": [
    "def Train_y(date_a,date_b):\n",
    "    Action_section = Action_clean[(Action_clean['time'] >= date_a) & (Action_clean['time'] < date_b)]\n",
    "    Action_y = Action_section[Action_section['type_4']==1][['user_id','sku_id','type_4','time']]\\\n",
    "    .rename({'type_4':'label'})\n",
    "    train_y =Action_y.merge(Product,on='sku_id',how='right')[['user_id','sku_id','type_4']]\n",
    "    train_y = train_y.groupby(['user_id','sku_id']).apply(len).to_frame().reset_index()\n",
    "    train_y.columns = ['user_id','sku_id','label']\n",
    "    return train_y"
   ]
  },
  {
   "cell_type": "markdown",
   "metadata": {},
   "source": [
    "### 构造Train数据集"
   ]
  },
  {
   "cell_type": "code",
   "execution_count": 13,
   "metadata": {
    "collapsed": true
   },
   "outputs": [],
   "source": [
    "def Train_create(date_a,date_b,date_c):\n",
    "    train_X = Train_X(date_a,date_b)\n",
    "    train_y = Train_y(date_b,date_c)\n",
    "    train = train_X.merge(train_y,on=['user_id','sku_id'],how='left')\n",
    "    train['label']= train['label'].fillna(0)\n",
    "    train['duration'] = (date3 - train['day'])/np.timedelta64(1, 'D')\n",
    "    return train"
   ]
  },
  {
   "cell_type": "code",
   "execution_count": 14,
   "metadata": {},
   "outputs": [],
   "source": [
    "train = Train_create(date0,date1,date2)"
   ]
  },
  {
   "cell_type": "code",
   "execution_count": 15,
   "metadata": {},
   "outputs": [
    {
     "data": {
      "text/plain": [
       "0.0    237672\n",
       "1.0       450\n",
       "Name: label, dtype: int64"
      ]
     },
     "execution_count": 15,
     "metadata": {},
     "output_type": "execute_result"
    }
   ],
   "source": [
    "train['label'].value_counts()"
   ]
  },
  {
   "cell_type": "markdown",
   "metadata": {},
   "source": [
    "### 导出数据"
   ]
  },
  {
   "cell_type": "code",
   "execution_count": 16,
   "metadata": {},
   "outputs": [],
   "source": [
    "train = train.fillna(-1)"
   ]
  },
  {
   "cell_type": "code",
   "execution_count": 17,
   "metadata": {},
   "outputs": [
    {
     "name": "stdout",
     "output_type": "stream",
     "text": [
      "<class 'pandas.core.frame.DataFrame'>\n",
      "Int64Index: 238122 entries, 0 to 238121\n",
      "Data columns (total 26 columns):\n",
      "sku_id              238122 non-null int64\n",
      "attr1               238122 non-null float64\n",
      "attr2               238122 non-null float64\n",
      "attr3               238122 non-null float64\n",
      "cate                238122 non-null int64\n",
      "brand               238122 non-null int64\n",
      "dt                  238122 non-null datetime64[ns]\n",
      "comment_num         238122 non-null float64\n",
      "has_bad_comment     238122 non-null float64\n",
      "bad_comment_rate    238122 non-null float64\n",
      "user_id             238122 non-null int64\n",
      "type_1              238122 non-null float64\n",
      "type_2              238122 non-null float64\n",
      "type_3              238122 non-null float64\n",
      "type_4              238122 non-null float64\n",
      "type_5              238122 non-null float64\n",
      "type_6              238122 non-null float64\n",
      "time                238122 non-null datetime64[ns]\n",
      "model_id            238122 non-null float64\n",
      "day                 238122 non-null datetime64[ns]\n",
      "age                 238122 non-null object\n",
      "sex                 238122 non-null float64\n",
      "user_lv_cd          238122 non-null float64\n",
      "user_reg_dt         238122 non-null datetime64[ns]\n",
      "label               238122 non-null float64\n",
      "duration            238122 non-null float64\n",
      "dtypes: datetime64[ns](4), float64(17), int64(4), object(1)\n",
      "memory usage: 49.1+ MB\n"
     ]
    }
   ],
   "source": [
    "train.info()"
   ]
  },
  {
   "cell_type": "code",
   "execution_count": 18,
   "metadata": {},
   "outputs": [],
   "source": [
    "train.to_csv('./Data/jdata_train.csv',na_rep=-1,index=False)"
   ]
  },
  {
   "cell_type": "code",
   "execution_count": null,
   "metadata": {
    "collapsed": true
   },
   "outputs": [],
   "source": []
  }
 ],
 "metadata": {
  "kernelspec": {
   "display_name": "Python 2",
   "language": "python",
   "name": "python2"
  },
  "language_info": {
   "codemirror_mode": {
    "name": "ipython",
    "version": 2
   },
   "file_extension": ".py",
   "mimetype": "text/x-python",
   "name": "python",
   "nbconvert_exporter": "python",
   "pygments_lexer": "ipython2",
   "version": "2.7.13"
  },
  "widgets": {
   "application/vnd.jupyter.widget-state+json": {
    "state": {},
    "version_major": 1,
    "version_minor": 0
   }
  }
 },
 "nbformat": 4,
 "nbformat_minor": 2
}
