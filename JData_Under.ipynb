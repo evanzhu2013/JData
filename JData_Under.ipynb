{
 "cells": [
  {
   "cell_type": "code",
   "execution_count": 1,
   "metadata": {
    "collapsed": false,
    "deletable": true,
    "editable": true
   },
   "outputs": [],
   "source": [
    "import pandas as pd\n",
    "import numpy as np\n",
    "\n",
    "from sklearn.utils import check_random_state\n",
    "from collections import Counter\n",
    "from scipy.sparse import hstack,vstack\n",
    "from imblearn.under_sampling import RandomUnderSampler\n",
    "from sklearn.preprocessing import LabelEncoder\n",
    "\n",
    "# import warnings\n",
    "# warnings.filterwarnings('ignore')"
   ]
  },
  {
   "cell_type": "code",
   "execution_count": 2,
   "metadata": {
    "collapsed": false,
    "deletable": true,
    "editable": true
   },
   "outputs": [],
   "source": [
    "jdta = pd.read_csv('./Data/jdata_train.csv',encoding='UTF-8',parse_dates=['time','dt','user_reg_dt'])"
   ]
  },
  {
   "cell_type": "code",
   "execution_count": 3,
   "metadata": {
    "collapsed": false,
    "deletable": true,
    "editable": true
   },
   "outputs": [
    {
     "name": "stdout",
     "output_type": "stream",
     "text": [
      "<class 'pandas.core.frame.DataFrame'>\n",
      "RangeIndex: 467969 entries, 0 to 467968\n",
      "Data columns (total 26 columns):\n",
      "sku_id              467969 non-null int64\n",
      "attr1               467969 non-null float64\n",
      "attr2               467969 non-null float64\n",
      "attr3               467969 non-null float64\n",
      "cate                467969 non-null int64\n",
      "brand               467969 non-null int64\n",
      "dt                  467969 non-null datetime64[ns]\n",
      "comment_num         467969 non-null float64\n",
      "has_bad_comment     467969 non-null float64\n",
      "bad_comment_rate    467969 non-null float64\n",
      "user_id             467969 non-null int64\n",
      "type_1              467969 non-null float64\n",
      "type_2              467969 non-null float64\n",
      "type_3              467969 non-null float64\n",
      "type_4              467969 non-null float64\n",
      "type_5              467969 non-null float64\n",
      "type_6              467969 non-null float64\n",
      "time                467969 non-null datetime64[ns]\n",
      "model_id            467969 non-null float64\n",
      "day                 467969 non-null object\n",
      "age                 467969 non-null object\n",
      "sex                 467969 non-null float64\n",
      "user_lv_cd          467969 non-null float64\n",
      "user_reg_dt         467969 non-null datetime64[ns]\n",
      "label               467969 non-null float64\n",
      "duration            467969 non-null float64\n",
      "dtypes: datetime64[ns](3), float64(17), int64(4), object(2)\n",
      "memory usage: 92.8+ MB\n"
     ]
    }
   ],
   "source": [
    "jdta.info()"
   ]
  },
  {
   "cell_type": "code",
   "execution_count": 4,
   "metadata": {
    "collapsed": false,
    "deletable": true,
    "editable": true
   },
   "outputs": [
    {
     "data": {
      "text/plain": [
       "0    11.0\n",
       "1    11.0\n",
       "2    12.0\n",
       "3    14.0\n",
       "4    11.0\n",
       "Name: duration, dtype: float64"
      ]
     },
     "execution_count": 4,
     "metadata": {},
     "output_type": "execute_result"
    }
   ],
   "source": [
    "jdta['duration'].head()"
   ]
  },
  {
   "cell_type": "code",
   "execution_count": 5,
   "metadata": {
    "collapsed": false,
    "deletable": true,
    "editable": true
   },
   "outputs": [],
   "source": [
    "def label(data):\n",
    "    le=LabelEncoder()\n",
    "    for col in data.columns.values:\n",
    "        # Encoding only categorical variables\n",
    "        if data[col].dtypes=='object':\n",
    "        # Using whole data to form an exhaustive list of levels\n",
    "            le.fit(data[col].values)\n",
    "            data[col]=le.transform(data[col])"
   ]
  },
  {
   "cell_type": "code",
   "execution_count": 6,
   "metadata": {
    "collapsed": false,
    "deletable": true,
    "editable": true
   },
   "outputs": [],
   "source": [
    "label(jdta)"
   ]
  },
  {
   "cell_type": "code",
   "execution_count": 8,
   "metadata": {
    "collapsed": false,
    "deletable": true,
    "editable": true
   },
   "outputs": [
    {
     "data": {
      "text/plain": [
       "Index(['sku_id', 'attr1', 'attr2', 'attr3', 'cate', 'brand', 'dt',\n",
       "       'comment_num', 'has_bad_comment', 'bad_comment_rate', 'user_id',\n",
       "       'type_1', 'type_2', 'type_3', 'type_4', 'type_5', 'type_6', 'time',\n",
       "       'model_id', 'day', 'age', 'sex', 'user_lv_cd', 'user_reg_dt', 'label',\n",
       "       'duration'],\n",
       "      dtype='object')"
      ]
     },
     "execution_count": 8,
     "metadata": {},
     "output_type": "execute_result"
    }
   ],
   "source": [
    "jdta.columns"
   ]
  },
  {
   "cell_type": "code",
   "execution_count": 9,
   "metadata": {
    "collapsed": false,
    "deletable": true,
    "editable": true
   },
   "outputs": [
    {
     "data": {
      "text/plain": [
       "0.0    467518\n",
       "1.0       451\n",
       "Name: label, dtype: int64"
      ]
     },
     "execution_count": 9,
     "metadata": {},
     "output_type": "execute_result"
    }
   ],
   "source": [
    "jdta['label'].value_counts()"
   ]
  },
  {
   "cell_type": "code",
   "execution_count": 20,
   "metadata": {
    "collapsed": true,
    "deletable": true,
    "editable": true
   },
   "outputs": [],
   "source": [
    "var = ['sku_id', 'attr1', 'attr2', 'attr3', 'cate', 'brand',\\\n",
    "       'comment_num', 'has_bad_comment', 'bad_comment_rate', 'user_id',\\\n",
    "       'type_1', 'type_2', 'type_3', 'type_4', 'type_5', 'type_6',\\\n",
    "       'model_id', 'day', 'age', 'sex', 'user_lv_cd', 'label',\\\n",
    "       'duration']"
   ]
  },
  {
   "cell_type": "code",
   "execution_count": 21,
   "metadata": {
    "collapsed": true,
    "deletable": true,
    "editable": true
   },
   "outputs": [],
   "source": [
    "def label(data):\n",
    "    le=LabelEncoder()\n",
    "    for col in data.columns.values:\n",
    "        # Encoding only categorical variables\n",
    "        if data[col].dtypes=='object':\n",
    "        # Using whole data to form an exhaustive list of levels\n",
    "            le.fit(data[col].values)\n",
    "            data[col]=le.transform(data[col])"
   ]
  },
  {
   "cell_type": "code",
   "execution_count": 22,
   "metadata": {
    "collapsed": false,
    "deletable": true,
    "editable": true
   },
   "outputs": [],
   "source": [
    "label(jdta)"
   ]
  },
  {
   "cell_type": "code",
   "execution_count": 23,
   "metadata": {
    "collapsed": false,
    "deletable": true,
    "editable": true
   },
   "outputs": [],
   "source": [
    "pred_var = var[:-1]"
   ]
  },
  {
   "cell_type": "code",
   "execution_count": 24,
   "metadata": {
    "collapsed": false,
    "deletable": true,
    "editable": true
   },
   "outputs": [
    {
     "name": "stdout",
     "output_type": "stream",
     "text": [
      "Dataset shape Counter({0.0: 467518, 1.0: 451})\n",
      "Resampled dataset shape Counter({0.0: 4510, 1.0: 451})\n"
     ]
    }
   ],
   "source": [
    "X = jdta[pred_var]\n",
    "y = jdta['label']\n",
    "print('Dataset shape {}'.format(Counter(y)))\n",
    "\n",
    "ros = RandomUnderSampler(random_state=0,ratio=0.1)\n",
    "X_res, y_res = ros.fit_sample(X, y)\n",
    "print('Resampled dataset shape {}'.format(Counter(y_res)))"
   ]
  },
  {
   "cell_type": "code",
   "execution_count": 25,
   "metadata": {
    "collapsed": false,
    "deletable": true,
    "editable": true
   },
   "outputs": [],
   "source": [
    "y_res = y_res[:,None]"
   ]
  },
  {
   "cell_type": "code",
   "execution_count": 26,
   "metadata": {
    "collapsed": false,
    "deletable": true,
    "editable": true
   },
   "outputs": [],
   "source": [
    "jdta_balanced = pd.DataFrame(np.concatenate([X_res,y_res],axis=1))\n",
    "jdta_balanced.columns = var"
   ]
  },
  {
   "cell_type": "code",
   "execution_count": 27,
   "metadata": {
    "collapsed": false,
    "deletable": true,
    "editable": true
   },
   "outputs": [
    {
     "data": {
      "text/html": [
       "<div>\n",
       "<table border=\"1\" class=\"dataframe\">\n",
       "  <thead>\n",
       "    <tr style=\"text-align: right;\">\n",
       "      <th></th>\n",
       "      <th>sku_id</th>\n",
       "      <th>attr1</th>\n",
       "      <th>attr2</th>\n",
       "      <th>attr3</th>\n",
       "      <th>cate</th>\n",
       "      <th>brand</th>\n",
       "      <th>comment_num</th>\n",
       "      <th>has_bad_comment</th>\n",
       "      <th>bad_comment_rate</th>\n",
       "      <th>user_id</th>\n",
       "      <th>...</th>\n",
       "      <th>type_4</th>\n",
       "      <th>type_5</th>\n",
       "      <th>type_6</th>\n",
       "      <th>model_id</th>\n",
       "      <th>day</th>\n",
       "      <th>age</th>\n",
       "      <th>sex</th>\n",
       "      <th>user_lv_cd</th>\n",
       "      <th>label</th>\n",
       "      <th>duration</th>\n",
       "    </tr>\n",
       "  </thead>\n",
       "  <tbody>\n",
       "    <tr>\n",
       "      <th>0</th>\n",
       "      <td>124507.0</td>\n",
       "      <td>3.0</td>\n",
       "      <td>1.0</td>\n",
       "      <td>2.0</td>\n",
       "      <td>8.0</td>\n",
       "      <td>214.0</td>\n",
       "      <td>3.0</td>\n",
       "      <td>1.0</td>\n",
       "      <td>0.1500</td>\n",
       "      <td>36977.0</td>\n",
       "      <td>...</td>\n",
       "      <td>1.0</td>\n",
       "      <td>1.0</td>\n",
       "      <td>44.0</td>\n",
       "      <td>94.0</td>\n",
       "      <td>8.0</td>\n",
       "      <td>3.0</td>\n",
       "      <td>1.0</td>\n",
       "      <td>5.0</td>\n",
       "      <td>1.0</td>\n",
       "      <td>1.0</td>\n",
       "    </tr>\n",
       "    <tr>\n",
       "      <th>1</th>\n",
       "      <td>146704.0</td>\n",
       "      <td>1.0</td>\n",
       "      <td>1.0</td>\n",
       "      <td>1.0</td>\n",
       "      <td>8.0</td>\n",
       "      <td>800.0</td>\n",
       "      <td>2.0</td>\n",
       "      <td>1.0</td>\n",
       "      <td>0.1111</td>\n",
       "      <td>35914.0</td>\n",
       "      <td>...</td>\n",
       "      <td>1.0</td>\n",
       "      <td>1.0</td>\n",
       "      <td>9.0</td>\n",
       "      <td>22.0</td>\n",
       "      <td>18.0</td>\n",
       "      <td>3.0</td>\n",
       "      <td>0.0</td>\n",
       "      <td>5.0</td>\n",
       "      <td>1.0</td>\n",
       "      <td>1.0</td>\n",
       "    </tr>\n",
       "    <tr>\n",
       "      <th>2</th>\n",
       "      <td>146704.0</td>\n",
       "      <td>1.0</td>\n",
       "      <td>1.0</td>\n",
       "      <td>1.0</td>\n",
       "      <td>8.0</td>\n",
       "      <td>800.0</td>\n",
       "      <td>2.0</td>\n",
       "      <td>1.0</td>\n",
       "      <td>0.1111</td>\n",
       "      <td>78975.0</td>\n",
       "      <td>...</td>\n",
       "      <td>1.0</td>\n",
       "      <td>0.0</td>\n",
       "      <td>27.0</td>\n",
       "      <td>90.0</td>\n",
       "      <td>4.0</td>\n",
       "      <td>3.0</td>\n",
       "      <td>0.0</td>\n",
       "      <td>4.0</td>\n",
       "      <td>1.0</td>\n",
       "      <td>1.0</td>\n",
       "    </tr>\n",
       "    <tr>\n",
       "      <th>3</th>\n",
       "      <td>24771.0</td>\n",
       "      <td>-1.0</td>\n",
       "      <td>-1.0</td>\n",
       "      <td>1.0</td>\n",
       "      <td>8.0</td>\n",
       "      <td>857.0</td>\n",
       "      <td>4.0</td>\n",
       "      <td>1.0</td>\n",
       "      <td>0.0906</td>\n",
       "      <td>83152.0</td>\n",
       "      <td>...</td>\n",
       "      <td>1.0</td>\n",
       "      <td>0.0</td>\n",
       "      <td>8.0</td>\n",
       "      <td>34.0</td>\n",
       "      <td>14.0</td>\n",
       "      <td>3.0</td>\n",
       "      <td>2.0</td>\n",
       "      <td>3.0</td>\n",
       "      <td>1.0</td>\n",
       "      <td>1.0</td>\n",
       "    </tr>\n",
       "    <tr>\n",
       "      <th>4</th>\n",
       "      <td>28250.0</td>\n",
       "      <td>1.0</td>\n",
       "      <td>2.0</td>\n",
       "      <td>2.0</td>\n",
       "      <td>8.0</td>\n",
       "      <td>677.0</td>\n",
       "      <td>3.0</td>\n",
       "      <td>1.0</td>\n",
       "      <td>0.0870</td>\n",
       "      <td>24842.0</td>\n",
       "      <td>...</td>\n",
       "      <td>1.0</td>\n",
       "      <td>0.0</td>\n",
       "      <td>6.0</td>\n",
       "      <td>17.0</td>\n",
       "      <td>14.0</td>\n",
       "      <td>3.0</td>\n",
       "      <td>0.0</td>\n",
       "      <td>5.0</td>\n",
       "      <td>1.0</td>\n",
       "      <td>1.0</td>\n",
       "    </tr>\n",
       "  </tbody>\n",
       "</table>\n",
       "<p>5 rows × 23 columns</p>\n",
       "</div>"
      ],
      "text/plain": [
       "     sku_id  attr1  attr2  attr3  cate  brand  comment_num  has_bad_comment  \\\n",
       "0  124507.0    3.0    1.0    2.0   8.0  214.0          3.0              1.0   \n",
       "1  146704.0    1.0    1.0    1.0   8.0  800.0          2.0              1.0   \n",
       "2  146704.0    1.0    1.0    1.0   8.0  800.0          2.0              1.0   \n",
       "3   24771.0   -1.0   -1.0    1.0   8.0  857.0          4.0              1.0   \n",
       "4   28250.0    1.0    2.0    2.0   8.0  677.0          3.0              1.0   \n",
       "\n",
       "   bad_comment_rate  user_id    ...     type_4  type_5  type_6  model_id  \\\n",
       "0            0.1500  36977.0    ...        1.0     1.0    44.0      94.0   \n",
       "1            0.1111  35914.0    ...        1.0     1.0     9.0      22.0   \n",
       "2            0.1111  78975.0    ...        1.0     0.0    27.0      90.0   \n",
       "3            0.0906  83152.0    ...        1.0     0.0     8.0      34.0   \n",
       "4            0.0870  24842.0    ...        1.0     0.0     6.0      17.0   \n",
       "\n",
       "    day  age  sex  user_lv_cd  label  duration  \n",
       "0   8.0  3.0  1.0         5.0    1.0       1.0  \n",
       "1  18.0  3.0  0.0         5.0    1.0       1.0  \n",
       "2   4.0  3.0  0.0         4.0    1.0       1.0  \n",
       "3  14.0  3.0  2.0         3.0    1.0       1.0  \n",
       "4  14.0  3.0  0.0         5.0    1.0       1.0  \n",
       "\n",
       "[5 rows x 23 columns]"
      ]
     },
     "execution_count": 27,
     "metadata": {},
     "output_type": "execute_result"
    }
   ],
   "source": [
    "jdta_balanced.head()"
   ]
  },
  {
   "cell_type": "code",
   "execution_count": 28,
   "metadata": {
    "collapsed": false,
    "deletable": true,
    "editable": true
   },
   "outputs": [
    {
     "data": {
      "text/plain": [
       "0.0    4510\n",
       "1.0     451\n",
       "Name: label, dtype: int64"
      ]
     },
     "execution_count": 28,
     "metadata": {},
     "output_type": "execute_result"
    }
   ],
   "source": [
    "jdta_balanced['label'].value_counts()"
   ]
  },
  {
   "cell_type": "code",
   "execution_count": 29,
   "metadata": {
    "collapsed": false,
    "deletable": true,
    "editable": true
   },
   "outputs": [
    {
     "data": {
      "text/html": [
       "<div>\n",
       "<table border=\"1\" class=\"dataframe\">\n",
       "  <thead>\n",
       "    <tr style=\"text-align: right;\">\n",
       "      <th></th>\n",
       "      <th>sku_id</th>\n",
       "      <th>attr1</th>\n",
       "      <th>attr2</th>\n",
       "      <th>attr3</th>\n",
       "      <th>cate</th>\n",
       "      <th>brand</th>\n",
       "      <th>comment_num</th>\n",
       "      <th>has_bad_comment</th>\n",
       "      <th>bad_comment_rate</th>\n",
       "      <th>user_id</th>\n",
       "      <th>...</th>\n",
       "      <th>type_4</th>\n",
       "      <th>type_5</th>\n",
       "      <th>type_6</th>\n",
       "      <th>model_id</th>\n",
       "      <th>day</th>\n",
       "      <th>age</th>\n",
       "      <th>sex</th>\n",
       "      <th>user_lv_cd</th>\n",
       "      <th>label</th>\n",
       "      <th>duration</th>\n",
       "    </tr>\n",
       "  </thead>\n",
       "  <tbody>\n",
       "    <tr>\n",
       "      <th>0</th>\n",
       "      <td>124507.0</td>\n",
       "      <td>3.0</td>\n",
       "      <td>1.0</td>\n",
       "      <td>2.0</td>\n",
       "      <td>8.0</td>\n",
       "      <td>214.0</td>\n",
       "      <td>3.0</td>\n",
       "      <td>1.0</td>\n",
       "      <td>0.1500</td>\n",
       "      <td>36977.0</td>\n",
       "      <td>...</td>\n",
       "      <td>1.0</td>\n",
       "      <td>1.0</td>\n",
       "      <td>44.0</td>\n",
       "      <td>94.0</td>\n",
       "      <td>8.0</td>\n",
       "      <td>3.0</td>\n",
       "      <td>1.0</td>\n",
       "      <td>5.0</td>\n",
       "      <td>1.0</td>\n",
       "      <td>1.0</td>\n",
       "    </tr>\n",
       "    <tr>\n",
       "      <th>1</th>\n",
       "      <td>146704.0</td>\n",
       "      <td>1.0</td>\n",
       "      <td>1.0</td>\n",
       "      <td>1.0</td>\n",
       "      <td>8.0</td>\n",
       "      <td>800.0</td>\n",
       "      <td>2.0</td>\n",
       "      <td>1.0</td>\n",
       "      <td>0.1111</td>\n",
       "      <td>35914.0</td>\n",
       "      <td>...</td>\n",
       "      <td>1.0</td>\n",
       "      <td>1.0</td>\n",
       "      <td>9.0</td>\n",
       "      <td>22.0</td>\n",
       "      <td>18.0</td>\n",
       "      <td>3.0</td>\n",
       "      <td>0.0</td>\n",
       "      <td>5.0</td>\n",
       "      <td>1.0</td>\n",
       "      <td>1.0</td>\n",
       "    </tr>\n",
       "    <tr>\n",
       "      <th>2</th>\n",
       "      <td>146704.0</td>\n",
       "      <td>1.0</td>\n",
       "      <td>1.0</td>\n",
       "      <td>1.0</td>\n",
       "      <td>8.0</td>\n",
       "      <td>800.0</td>\n",
       "      <td>2.0</td>\n",
       "      <td>1.0</td>\n",
       "      <td>0.1111</td>\n",
       "      <td>78975.0</td>\n",
       "      <td>...</td>\n",
       "      <td>1.0</td>\n",
       "      <td>0.0</td>\n",
       "      <td>27.0</td>\n",
       "      <td>90.0</td>\n",
       "      <td>4.0</td>\n",
       "      <td>3.0</td>\n",
       "      <td>0.0</td>\n",
       "      <td>4.0</td>\n",
       "      <td>1.0</td>\n",
       "      <td>1.0</td>\n",
       "    </tr>\n",
       "    <tr>\n",
       "      <th>3</th>\n",
       "      <td>24771.0</td>\n",
       "      <td>-1.0</td>\n",
       "      <td>-1.0</td>\n",
       "      <td>1.0</td>\n",
       "      <td>8.0</td>\n",
       "      <td>857.0</td>\n",
       "      <td>4.0</td>\n",
       "      <td>1.0</td>\n",
       "      <td>0.0906</td>\n",
       "      <td>83152.0</td>\n",
       "      <td>...</td>\n",
       "      <td>1.0</td>\n",
       "      <td>0.0</td>\n",
       "      <td>8.0</td>\n",
       "      <td>34.0</td>\n",
       "      <td>14.0</td>\n",
       "      <td>3.0</td>\n",
       "      <td>2.0</td>\n",
       "      <td>3.0</td>\n",
       "      <td>1.0</td>\n",
       "      <td>1.0</td>\n",
       "    </tr>\n",
       "    <tr>\n",
       "      <th>4</th>\n",
       "      <td>28250.0</td>\n",
       "      <td>1.0</td>\n",
       "      <td>2.0</td>\n",
       "      <td>2.0</td>\n",
       "      <td>8.0</td>\n",
       "      <td>677.0</td>\n",
       "      <td>3.0</td>\n",
       "      <td>1.0</td>\n",
       "      <td>0.0870</td>\n",
       "      <td>24842.0</td>\n",
       "      <td>...</td>\n",
       "      <td>1.0</td>\n",
       "      <td>0.0</td>\n",
       "      <td>6.0</td>\n",
       "      <td>17.0</td>\n",
       "      <td>14.0</td>\n",
       "      <td>3.0</td>\n",
       "      <td>0.0</td>\n",
       "      <td>5.0</td>\n",
       "      <td>1.0</td>\n",
       "      <td>1.0</td>\n",
       "    </tr>\n",
       "  </tbody>\n",
       "</table>\n",
       "<p>5 rows × 23 columns</p>\n",
       "</div>"
      ],
      "text/plain": [
       "     sku_id  attr1  attr2  attr3  cate  brand  comment_num  has_bad_comment  \\\n",
       "0  124507.0    3.0    1.0    2.0   8.0  214.0          3.0              1.0   \n",
       "1  146704.0    1.0    1.0    1.0   8.0  800.0          2.0              1.0   \n",
       "2  146704.0    1.0    1.0    1.0   8.0  800.0          2.0              1.0   \n",
       "3   24771.0   -1.0   -1.0    1.0   8.0  857.0          4.0              1.0   \n",
       "4   28250.0    1.0    2.0    2.0   8.0  677.0          3.0              1.0   \n",
       "\n",
       "   bad_comment_rate  user_id    ...     type_4  type_5  type_6  model_id  \\\n",
       "0            0.1500  36977.0    ...        1.0     1.0    44.0      94.0   \n",
       "1            0.1111  35914.0    ...        1.0     1.0     9.0      22.0   \n",
       "2            0.1111  78975.0    ...        1.0     0.0    27.0      90.0   \n",
       "3            0.0906  83152.0    ...        1.0     0.0     8.0      34.0   \n",
       "4            0.0870  24842.0    ...        1.0     0.0     6.0      17.0   \n",
       "\n",
       "    day  age  sex  user_lv_cd  label  duration  \n",
       "0   8.0  3.0  1.0         5.0    1.0       1.0  \n",
       "1  18.0  3.0  0.0         5.0    1.0       1.0  \n",
       "2   4.0  3.0  0.0         4.0    1.0       1.0  \n",
       "3  14.0  3.0  2.0         3.0    1.0       1.0  \n",
       "4  14.0  3.0  0.0         5.0    1.0       1.0  \n",
       "\n",
       "[5 rows x 23 columns]"
      ]
     },
     "execution_count": 29,
     "metadata": {},
     "output_type": "execute_result"
    }
   ],
   "source": [
    "jdta_balanced.head()"
   ]
  },
  {
   "cell_type": "code",
   "execution_count": 31,
   "metadata": {
    "collapsed": false,
    "deletable": true,
    "editable": true
   },
   "outputs": [
    {
     "name": "stdout",
     "output_type": "stream",
     "text": [
      "<class 'pandas.core.frame.DataFrame'>\n",
      "RangeIndex: 4961 entries, 0 to 4960\n",
      "Data columns (total 23 columns):\n",
      "sku_id              4961 non-null float64\n",
      "attr1               4961 non-null float64\n",
      "attr2               4961 non-null float64\n",
      "attr3               4961 non-null float64\n",
      "cate                4961 non-null float64\n",
      "brand               4961 non-null float64\n",
      "comment_num         4961 non-null float64\n",
      "has_bad_comment     4961 non-null float64\n",
      "bad_comment_rate    4961 non-null float64\n",
      "user_id             4961 non-null float64\n",
      "type_1              4961 non-null float64\n",
      "type_2              4961 non-null float64\n",
      "type_3              4961 non-null float64\n",
      "type_4              4961 non-null float64\n",
      "type_5              4961 non-null float64\n",
      "type_6              4961 non-null float64\n",
      "model_id            4961 non-null float64\n",
      "day                 4961 non-null float64\n",
      "age                 4961 non-null float64\n",
      "sex                 4961 non-null float64\n",
      "user_lv_cd          4961 non-null float64\n",
      "label               4961 non-null float64\n",
      "duration            4961 non-null float64\n",
      "dtypes: float64(23)\n",
      "memory usage: 891.5 KB\n"
     ]
    }
   ],
   "source": [
    "jdta_balanced.info()"
   ]
  },
  {
   "cell_type": "code",
   "execution_count": 30,
   "metadata": {
    "collapsed": false,
    "deletable": true,
    "editable": true
   },
   "outputs": [],
   "source": [
    "jdta_balanced.to_csv('./Data/train_balanced.csv',index=False,na_rep=-1)"
   ]
  },
  {
   "cell_type": "code",
   "execution_count": null,
   "metadata": {
    "collapsed": true,
    "deletable": true,
    "editable": true
   },
   "outputs": [],
   "source": []
  },
  {
   "cell_type": "code",
   "execution_count": null,
   "metadata": {
    "collapsed": true,
    "deletable": true,
    "editable": true
   },
   "outputs": [],
   "source": []
  }
 ],
 "metadata": {
  "kernelspec": {
   "display_name": "Python 3",
   "language": "python",
   "name": "python3"
  },
  "language_info": {
   "codemirror_mode": {
    "name": "ipython",
    "version": 3
   },
   "file_extension": ".py",
   "mimetype": "text/x-python",
   "name": "python",
   "nbconvert_exporter": "python",
   "pygments_lexer": "ipython3",
   "version": "3.6.0"
  }
 },
 "nbformat": 4,
 "nbformat_minor": 2
}
